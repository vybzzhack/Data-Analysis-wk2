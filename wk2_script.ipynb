{
 "cells": [
  {
   "cell_type": "markdown",
   "id": "14bc380b-2a2e-47dc-bc79-1fbda72cf1c8",
   "metadata": {},
   "source": [
    "##Garbage collection \n",
    "Garbage collection is a memory management technique used in programming languages to automatically reclaim memory that is no longer accessible or in use by the application. It helps prevent memory leaks, optimize memory usage, and ensure efficient memory allocation for the program.\n",
    "##Memory Management\n",
    "Memory allocation can be defined as allocating a block of space in the computer memory to a program. In Python memory allocation and deallocation method is automatic as the Python developers created a garbage collector for Python so that the user does not have to do manual garbage collection.\n",
    "Python uses reference counting as its primary memory management technique, where each object has a counter that tracks how many references point to it. When the reference count drops to zero, the object is considered no longer needed and is eligible for garbage collection.\r\n",
    "\r\n"
   ]
  },
  {
   "cell_type": "markdown",
   "id": "889e6793-e431-4046-b8a9-729a0edf0f75",
   "metadata": {},
   "source": [
    "##Key Differences Between NumPy Arrays and Python Lists\n",
    "-Data Type Consistency: NumPy arrays require all elements to be of the same data type, while Python lists can contain elements of mixed types.\n",
    "-Memory Efficiency: NumPy arrays are more memory-efficient because they store elements in contiguous blocks of memory, unlike Python lists, which store references to elements.\n",
    "-Performance: NumPy arrays are faster for numerical computations because they leverage vectorized operations and are optimized for these tasks, while Python lists require looping for element-wise operations.\n",
    "-Functionality: NumPy arrays offer a wide range of mathematical functions that operate on entire arrays, which Python lists do not natively support.\n",
    "\n",
    "##Advantages of NumPy Arrays\n",
    "-Homogeneous Data: NumPy arrays store elements of the same data type, making them more compact and memory-efficient than lists.\r",
    "-\n",
    "Fixed Data Type: NumPy arrays have a fixed data type, reducing memory overhead by eliminating the need to store type information for each element.-\r\n",
    "Contiguous Memory: NumPy arrays store elements in adjacent memory locations, reducing fragmentation and allowing for efficient access-.\r\n",
    "Array Metadata: NumPy arrays have extra metadata like shape, strides, and data type. However, this overhead is usually smaller than the per-element overhead in list-s.\r\n",
    "Performance: NumPy arrays are optimized for numerical computations, with efficient element-wise operations and mathematical functions. These operations are implemented in C, resulting in faster performance than equivalent operations on lists."
   ]
  },
  {
   "cell_type": "markdown",
   "id": "70d96277-eade-480e-b74b-c869bf18b586",
   "metadata": {},
   "source": [
    "##List comprehension\n",
    "List comprehension is a concise way to create lists in Python. It allows you to generate lists in a single line, making the code more readable and efficient."
   ]
  },
  {
   "cell_type": "code",
   "execution_count": null,
   "id": "8bf7a847-86f9-4fcd-ac9b-80ae6eaf70b8",
   "metadata": {},
   "outputs": [],
   "source": [
    "#Generating a list of squared values\n",
    "squares = [x**2 for x in range(10)]\n",
    "print(squares)\n",
    "\n",
    "# Output: [0, 1, 4, 9, 16, 25, 36, 49, 64, 81]\n",
    "\n",
    "#Filtering a list based on a condition\n",
    "numbers = [1, 2, 3, 4, 5, 6, 7, 8, 9, 10]\n",
    "even_numbers = [x for x in numbers if x % 2 == 0]\n",
    "print(even_numbers)\n",
    "\n",
    "## Output: [2, 4, 6, 8, 10]"
   ]
  },
  {
   "cell_type": "markdown",
   "id": "45a064b0-5711-46fe-931c-d2648c514f35",
   "metadata": {},
   "source": [
    "Assignment statements in Python do not copy objects, they create bindings between a target and an object. For collections that are mutable or contain mutable items, a copy is sometimes needed so one can change one copy without changing the other. This module provides generic shallow and deep copy operations (explained below).\n",
    "\n",
    "Interface summary:\n",
    "copy.copy(x)\n",
    "Return a shallow copy of x.\n",
    "\n",
    "copy.deepcopy(x[, memo])\n",
    "Return a deep copy of x.\n",
    "\n",
    "exception copy.Error\n",
    "Raised for module specific errors.\n",
    "\n",
    "\n",
    "The difference between shallow and deep copying is only relevant for compound objects (objects that contain other objects, like lists or class instances):\n",
    "#Shallow copy\n",
    "A shallow copy constructs a new compound object and then (to the extent possible) inserts references into it to the objects found in the original.\n",
    "Use shallow copy when you want a new container but are okay with references to nested objects being shared.\n",
    "\n",
    "#Deep copy\n",
    "A deep copy constructs a new compound object and then, recursively, inserts copies into it of the objects found in the original.\n",
    "Use deep copy when you need a completely independent copy of the original object, including nested objects."
   ]
  },
  {
   "cell_type": "code",
   "execution_count": null,
   "id": "712e01a9-ca6c-4790-9278-41fb8fffb7b5",
   "metadata": {},
   "outputs": [],
   "source": [
    "import copy\n",
    "\n",
    "#shallow copy\n",
    "original_list = [[1, 2, 3], [4, 5, 6]]\n",
    "shallow_copy = copy.copy(original_list)\n",
    "shallow_copy[0][0] = 'X'\n",
    "print(original_list)  \n",
    "\n",
    "# Output: [['X', 2, 3], [4, 5, 6]]\n",
    "\n",
    "#deep copy\n",
    "deep_copy = copy.deepcopy(original_list)\n",
    "deep_copy[0][0] = 'Y'\n",
    "print(original_list)  \n",
    "\n",
    "# Output: [['X', 2, 3], [4, 5, 6]]\n"
   ]
  },
  {
   "cell_type": "markdown",
   "id": "9b48ab97-00e1-46b0-8851-edac3ef2994e",
   "metadata": {},
   "source": [
    "The key difference between tuples and lists is that while tuples are immutable objects, lists are mutable. This means tuples cannot be changed while lists can be modified. Tuples are also more memory efficient than the lists.\n",
    "-Tuples are immutable objects and lists are mutable objects.\r",
    "-Once defined, tuples have a fixed length and lists have a dynamic length.-\r",
    "-\n",
    "Tuples use less memory and are faster to access than to lists-.-\r\n",
    "Tuple syntax uses round brackets or parenthesis, and list syntax uses square brackets.\r\n"
   ]
  },
  {
   "cell_type": "code",
   "execution_count": 1,
   "id": "545deed5-72b5-432d-9c88-0ac7b4604011",
   "metadata": {},
   "outputs": [],
   "source": [
    "#Mutability\n",
    "my_list = [1, 2, 3]\n",
    "my_list[0] = 10  # Allowed\n",
    "my_tuple = (1, 2, 3)\n",
    "# my_tuple[0] = 10  # Error: Tuples do not support item assignment\n",
    "\n",
    "#Syntax\n",
    "my_list = [1, 2, 3]\n",
    "my_tuple = (1, 2, 3)\n"
   ]
  },
  {
   "cell_type": "code",
   "execution_count": null,
   "id": "37d2a288-f0dc-4e16-a928-98c9d2acd127",
   "metadata": {},
   "outputs": [],
   "source": []
  }
 ],
 "metadata": {
  "kernelspec": {
   "display_name": "Python 3 (ipykernel)",
   "language": "python",
   "name": "python3"
  },
  "language_info": {
   "codemirror_mode": {
    "name": "ipython",
    "version": 3
   },
   "file_extension": ".py",
   "mimetype": "text/x-python",
   "name": "python",
   "nbconvert_exporter": "python",
   "pygments_lexer": "ipython3",
   "version": "3.12.4"
  }
 },
 "nbformat": 4,
 "nbformat_minor": 5
}
